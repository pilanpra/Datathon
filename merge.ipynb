{
 "cells": [
  {
   "cell_type": "code",
   "execution_count": null,
   "metadata": {},
   "outputs": [],
   "source": [
    "pip install openpyxl"
   ]
  },
  {
   "cell_type": "code",
   "execution_count": null,
   "metadata": {},
   "outputs": [],
   "source": [
    "import pandas as pd\n",
    "\n",
    "# Define file paths\n",
    "file_paths = [\n",
    "    'MarketEvaluation_2020.xlsx',\n",
    "    'MarketEvaluation_2021.xlsx',\n",
    "    'MarketEvaluation_2022.xlsx'\n",
    "]\n",
    "\n",
    "# Initialize an empty DataFrame\n",
    "merged_data = pd.DataFrame()\n",
    "\n",
    "# Loop through files and merge data\n",
    "for file in file_paths:\n",
    "    # Read the Excel file into a DataFrame\n",
    "    df = pd.read_excel(file)\n",
    "    \n",
    "    # Add a column for the year based on the file name\n",
    "    year = file.split('_')[-1].replace('.xlsx', '')\n",
    "    df['Year'] = year\n",
    "    \n",
    "    # Append the data to the merged DataFrame\n",
    "    merged_data = pd.concat([merged_data, df], ignore_index=True)\n",
    "\n",
    "# Clean the data\n",
    "merged_data.columns = merged_data.columns.str.strip()  # Strip whitespace from column names\n",
    "merged_data.drop_duplicates(inplace=True)  # Drop duplicate rows\n",
    "merged_data.dropna(how='any', inplace=True)  # Drop rows with missing values\n",
    "\n",
    "# Save the cleaned data to an Excel file\n",
    "merged_data.to_excel('Merged_Cleaned_MarketEvaluation.xlsx', index=False)\n",
    "\n",
    "# Alternatively, save as CSV\n",
    "merged_data.to_csv('Merged_Cleaned_MarketEvaluation.csv', index=False)\n"
   ]
  },
  {
   "cell_type": "code",
   "execution_count": null,
   "metadata": {},
   "outputs": [],
   "source": [
    "import pandas as pd\n",
    "\n",
    "# Load the datasets\n",
    "market_evaluation_df = pd.read_excel(\"Merged_Cleaned_MarketEvaluation.xlsx\")\n",
    "esg_data_df = pd.read_excel(\"esg_data.xlsx\", sheet_name)\n",
    "\n",
    "# Merge the datasets on the common column \"TickerID\"\n",
    "merged_data = pd.merge(market_evaluation_df, esg_data_df, on=\"TickerID\", how=\"inner\")\n",
    "\n",
    "# Save the merged dataset to a new Excel file\n",
    "merged_data.to_excel(\"Merged_Dataset.xlsx\", index=False)\n",
    "\n",
    "# Alternatively, save as a CSV file\n",
    "merged_data.to_csv(\"Merged_Dataset.csv\", index=False)"
   ]
  },
  {
   "cell_type": "code",
   "execution_count": null,
   "metadata": {},
   "outputs": [],
   "source": [
    "import pandas as pd\n",
    "\n",
    "# Load the datasets\n",
    "market_evaluation_df = pd.read_excel(\"Merged_Dataset.xlsx\")\n",
    "esg_data_df = pd.read_csv(\"SIC_Codes.csv\", sheet_name)\n",
    "\n",
    "# Merge the datasets on the common column \"TickerID\"\n",
    "merged_data = pd.merge(market_evaluation_df, esg_data_df, on=\"TickerID\", how=\"inner\")\n",
    "\n",
    "# Save the merged dataset to a new Excel file\n",
    "merged_data.to_excel(\"Merged_Dataset.xlsx\", index=False)\n",
    "\n",
    "# Alternatively, save as a CSV file\n",
    "merged_data.to_csv(\"Merged_Dataset.csv\", index=False)"
   ]
  },
  {
   "cell_type": "code",
   "execution_count": 1,
   "metadata": {},
   "outputs": [],
   "source": [
    "import pandas as pd\n",
    "\n",
    "market_evaluation_df = pd.read_excel(\"FinalTickerList.xlsx\")\n",
    "esg_data_df = pd.read_csv(\"SIC_Codes.csv\")\n",
    "\n",
    "# Merge the datasets on the common columns \"TickerID\" and \"Year\"\n",
    "merged_data = pd.merge(market_evaluation_df, esg_data_df, on=[\"sic\"], how=\"inner\")\n",
    "\n",
    "# Save the merged dataset to a new Excel file\n",
    "merged_data.to_excel(\"Merged_Dataset_Codes.xlsx\", index=False)\n",
    "\n",
    "# Alternatively, save as a CSV file\n",
    "merged_data.to_csv(\"Merged_Dataset_Codes.csv\", index=False)"
   ]
  },
  {
   "cell_type": "code",
   "execution_count": 3,
   "metadata": {},
   "outputs": [],
   "source": [
    "import pandas as pd\n",
    "\n",
    "market_evaluation_df = pd.read_excel(\"Merged_Dataset.xlsx\")\n",
    "esg_data_df = pd.read_csv(\"Merged_Dataset_Codes.csv\")\n",
    "\n",
    "# Merge the datasets on the common columns \"TickerID\" and \"Year\"\n",
    "merged_data = pd.merge(market_evaluation_df, esg_data_df, on=[\"TickerID\"], how=\"inner\")\n",
    "\n",
    "# Save the merged dataset to a new Excel file\n",
    "merged_data.to_excel(\"Merged_Dataset.xlsx\", index=False)\n",
    "\n",
    "# Alternatively, save as a CSV file\n",
    "merged_data.to_csv(\"Merged_Dataset.csv\", index=False)"
   ]
  }
 ],
 "metadata": {
  "kernelspec": {
   "display_name": "base",
   "language": "python",
   "name": "python3"
  },
  "language_info": {
   "codemirror_mode": {
    "name": "ipython",
    "version": 3
   },
   "file_extension": ".py",
   "mimetype": "text/x-python",
   "name": "python",
   "nbconvert_exporter": "python",
   "pygments_lexer": "ipython3",
   "version": "3.11.8"
  }
 },
 "nbformat": 4,
 "nbformat_minor": 2
}
